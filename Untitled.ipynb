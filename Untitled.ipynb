{
 "cells": [
  {
   "cell_type": "code",
   "execution_count": 1,
   "id": "4000a9a2-142b-41c0-91aa-1531da3ed409",
   "metadata": {},
   "outputs": [],
   "source": [
    "import main"
   ]
  },
  {
   "cell_type": "code",
   "execution_count": 2,
   "id": "4c5c29ca-403c-4813-9ea2-d93715b35ab3",
   "metadata": {},
   "outputs": [
    {
     "ename": "TypeError",
     "evalue": "unsupported operand type(s) for -: 'str' and 'int'",
     "output_type": "error",
     "traceback": [
      "\u001b[1;31m---------------------------------------------------------------------------\u001b[0m",
      "\u001b[1;31mTypeError\u001b[0m                                 Traceback (most recent call last)",
      "\u001b[1;32m<ipython-input-2-14379894d360>\u001b[0m in \u001b[0;36m<module>\u001b[1;34m\u001b[0m\n\u001b[1;32m----> 1\u001b[1;33m \u001b[0mbc\u001b[0m \u001b[1;33m=\u001b[0m \u001b[0mmain\u001b[0m\u001b[1;33m.\u001b[0m\u001b[0mManualBarcodeSequenceGeneration\u001b[0m\u001b[1;33m(\u001b[0m\u001b[0mseq_start\u001b[0m \u001b[1;33m=\u001b[0m\u001b[1;34m\"10100\"\u001b[0m \u001b[1;33m)\u001b[0m\u001b[1;33m\u001b[0m\u001b[1;33m\u001b[0m\u001b[0m\n\u001b[0m\u001b[0;32m      2\u001b[0m \u001b[0mbc\u001b[0m\u001b[1;33m.\u001b[0m\u001b[0mgenerate_barcodes\u001b[0m\u001b[1;33m(\u001b[0m\u001b[1;33m)\u001b[0m\u001b[1;33m\u001b[0m\u001b[1;33m\u001b[0m\u001b[0m\n",
      "\u001b[1;32mD:\\projects\\bluedart\\githubproj\\learnings\\barcode_label_generation\\main.py\u001b[0m in \u001b[0;36m__init__\u001b[1;34m(self, seq_start, seq_steps, seq_prefix, seq_suffix, seq_counts, seq_manual, page_size, tot_digits)\u001b[0m\n\u001b[0;32m     19\u001b[0m         \u001b[0mtotal_prefix_suffix_length\u001b[0m \u001b[1;33m=\u001b[0m \u001b[0mlen\u001b[0m\u001b[1;33m(\u001b[0m\u001b[0mseq_prefix\u001b[0m\u001b[1;33m)\u001b[0m \u001b[1;33m+\u001b[0m \u001b[0mlen\u001b[0m\u001b[1;33m(\u001b[0m\u001b[0mseq_suffix\u001b[0m\u001b[1;33m)\u001b[0m\u001b[1;33m\u001b[0m\u001b[1;33m\u001b[0m\u001b[0m\n\u001b[0;32m     20\u001b[0m \u001b[1;33m\u001b[0m\u001b[0m\n\u001b[1;32m---> 21\u001b[1;33m         \u001b[0mself\u001b[0m\u001b[1;33m.\u001b[0m\u001b[0mremaining_seq_length\u001b[0m \u001b[1;33m=\u001b[0m \u001b[0mtot_digits\u001b[0m \u001b[1;33m-\u001b[0m \u001b[0mtotal_prefix_suffix_length\u001b[0m\u001b[1;33m\u001b[0m\u001b[1;33m\u001b[0m\u001b[0m\n\u001b[0m\u001b[0;32m     22\u001b[0m         \u001b[0mself\u001b[0m\u001b[1;33m.\u001b[0m\u001b[0mfile_base\u001b[0m \u001b[1;33m=\u001b[0m \u001b[1;34m\"\"\u001b[0m\u001b[1;33m\u001b[0m\u001b[1;33m\u001b[0m\u001b[0m\n\u001b[0;32m     23\u001b[0m         \u001b[1;31m#self.barcode_folder = '/media/temp_remove/barcodes/'\u001b[0m\u001b[1;33m\u001b[0m\u001b[1;33m\u001b[0m\u001b[1;33m\u001b[0m\u001b[0m\n",
      "\u001b[1;31mTypeError\u001b[0m: unsupported operand type(s) for -: 'str' and 'int'"
     ]
    }
   ],
   "source": [
    "bc = main.ManualBarcodeSequenceGeneration(seq_start =\"10100\" )\n",
    "bc.generate_barcodes()"
   ]
  },
  {
   "cell_type": "code",
   "execution_count": 2,
   "id": "0f680c36-7d9c-4a8c-ad6e-8d6ab40d6c97",
   "metadata": {},
   "outputs": [
    {
     "name": "stdin",
     "output_type": "stream",
     "text": [
      "Enter prefix that should appear in the generated barcode(Optional) abc\n",
      "Enter Starting number of the sequence(mandatory) 100\n",
      "Enter Suffix that should appear in the generated barcode(Optional) z\n",
      "Enter increment number for the sequence(Optional, Default=1) ) 1\n",
      "Enter Number of barcodes that are to be generated(Optional, Default=10) ) 10\n",
      "Enter Printer Page Settings(2x1 inch or A4) (Optional, Default=A4) ) A4\n",
      "Enter Length of barcode (Default:10)) 12\n"
     ]
    },
    {
     "data": {
      "text/plain": [
       "'temp\\\\barcodes_A4_2021-06-18-09-41-13.pdf'"
      ]
     },
     "execution_count": 2,
     "metadata": {},
     "output_type": "execute_result"
    }
   ],
   "source": [
    "seq_prefix=input(\"Enter prefix that should appear in the generated barcode(Optional)\")\n",
    "seq_start=input(\"Enter Starting number of the sequence(mandatory)\")\n",
    "seq_suffix=input(\"Enter Suffix that should appear in the generated barcode(Optional)\")\n",
    "seq_steps=input(\"Enter increment number for the sequence(Optional, Default=1) )\")\n",
    "seq_counts=input(\"Enter Number of barcodes that are to be generated(Optional, Default=10) )\")\n",
    "page_size=input(\"Enter Printer Page Settings(2x1 inch or A4) (Optional, Default=A4) )\")\n",
    "tot_digits=input(\"Enter Length of barcode (Default:10))\")\n",
    "\n",
    "barcode = main.ManualBarcodeSequenceGeneration(seq_start=seq_start, seq_steps=seq_steps, \\\n",
    "                                    seq_prefix=seq_prefix, seq_suffix=seq_suffix,\\\n",
    "                                    seq_counts=seq_counts, page_size=page_size, tot_digits=tot_digits)\n",
    "\n",
    "barcode.generate_barcodes()\n"
   ]
  },
  {
   "cell_type": "code",
   "execution_count": 3,
   "id": "b95c4b44-c8d1-4680-ba72-6035e01c25de",
   "metadata": {},
   "outputs": [
    {
     "name": "stdin",
     "output_type": "stream",
     "text": [
      "Enter Printer Page Settings(2x1 inch or A4) (Optional, Default=A4) ) 2x1 inch\n"
     ]
    },
    {
     "data": {
      "text/plain": [
       "'temp\\\\barcodes_2x1_2021-06-18-09-42-1.pdf'"
      ]
     },
     "execution_count": 3,
     "metadata": {},
     "output_type": "execute_result"
    }
   ],
   "source": [
    "page_size=input(\"Enter Printer Page Settings(2x1 inch or A4) (Optional, Default=A4) )\")\n",
    "\n",
    "\n",
    "barcode = main.ManualBarcodeSequenceGeneration(seq_start=seq_start, seq_steps=seq_steps, \\\n",
    "                                    seq_prefix=seq_prefix, seq_suffix=seq_suffix,\\\n",
    "                                    seq_counts=seq_counts, page_size=page_size, tot_digits=tot_digits)\n",
    "\n",
    "barcode.generate_barcodes()"
   ]
  }
 ],
 "metadata": {
  "kernelspec": {
   "display_name": "Python 3",
   "language": "python",
   "name": "python3"
  },
  "language_info": {
   "codemirror_mode": {
    "name": "ipython",
    "version": 3
   },
   "file_extension": ".py",
   "mimetype": "text/x-python",
   "name": "python",
   "nbconvert_exporter": "python",
   "pygments_lexer": "ipython3",
   "version": "3.6.8"
  }
 },
 "nbformat": 4,
 "nbformat_minor": 5
}
